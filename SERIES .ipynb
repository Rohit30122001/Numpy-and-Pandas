{
 "cells": [
  {
   "cell_type": "code",
   "execution_count": 1,
   "id": "15ecb536",
   "metadata": {},
   "outputs": [],
   "source": [
    "import numpy as np\n",
    "import pandas as pd"
   ]
  },
  {
   "cell_type": "markdown",
   "id": "027fe7da",
   "metadata": {},
   "source": [
    "We can create a Series from python lists (also from Numpy arrays)"
   ]
  },
  {
   "cell_type": "code",
   "execution_count": 2,
   "id": "8202e78b",
   "metadata": {},
   "outputs": [],
   "source": [
    "myindex = ['USA','Canada','Mexico']"
   ]
  },
  {
   "cell_type": "code",
   "execution_count": 3,
   "id": "8b7d84b2",
   "metadata": {},
   "outputs": [],
   "source": [
    "mydata = [1776,1867,1821]"
   ]
  },
  {
   "cell_type": "code",
   "execution_count": 4,
   "id": "cb114e2e",
   "metadata": {},
   "outputs": [],
   "source": [
    "myser = pd.Series(mydata)"
   ]
  },
  {
   "cell_type": "code",
   "execution_count": 5,
   "id": "5348152e",
   "metadata": {},
   "outputs": [
    {
     "data": {
      "text/plain": [
       "0    1776\n",
       "1    1867\n",
       "2    1821\n",
       "dtype: int64"
      ]
     },
     "execution_count": 5,
     "metadata": {},
     "output_type": "execute_result"
    }
   ],
   "source": [
    "myser"
   ]
  },
  {
   "cell_type": "code",
   "execution_count": 6,
   "id": "1427edf9",
   "metadata": {},
   "outputs": [
    {
     "data": {
      "text/plain": [
       "USA       1776\n",
       "Canada    1867\n",
       "Mexico    1821\n",
       "dtype: int64"
      ]
     },
     "execution_count": 6,
     "metadata": {},
     "output_type": "execute_result"
    }
   ],
   "source": [
    "pd.Series(data = mydata,index = myindex)"
   ]
  },
  {
   "cell_type": "code",
   "execution_count": 7,
   "id": "632adee6",
   "metadata": {},
   "outputs": [],
   "source": [
    "ran_data = np.random.randint(0,100,4)"
   ]
  },
  {
   "cell_type": "code",
   "execution_count": 8,
   "id": "65a88e7d",
   "metadata": {},
   "outputs": [
    {
     "data": {
      "text/plain": [
       "array([37,  7, 36, 52])"
      ]
     },
     "execution_count": 8,
     "metadata": {},
     "output_type": "execute_result"
    }
   ],
   "source": [
    "ran_data"
   ]
  },
  {
   "cell_type": "code",
   "execution_count": 9,
   "id": "6a56e0ce",
   "metadata": {},
   "outputs": [],
   "source": [
    "names = ['Andrew','Bobo','Clarie','David']"
   ]
  },
  {
   "cell_type": "code",
   "execution_count": 10,
   "id": "a5b9a38f",
   "metadata": {},
   "outputs": [],
   "source": [
    "ages = pd.Series(ran_data,names)"
   ]
  },
  {
   "cell_type": "code",
   "execution_count": 11,
   "id": "a74de23e",
   "metadata": {},
   "outputs": [
    {
     "data": {
      "text/plain": [
       "Andrew    37\n",
       "Bobo       7\n",
       "Clarie    36\n",
       "David     52\n",
       "dtype: int32"
      ]
     },
     "execution_count": 11,
     "metadata": {},
     "output_type": "execute_result"
    }
   ],
   "source": [
    "ages"
   ]
  },
  {
   "cell_type": "markdown",
   "id": "31b0a996",
   "metadata": {},
   "source": [
    "## From Dictionary"
   ]
  },
  {
   "cell_type": "code",
   "execution_count": 12,
   "id": "751ce7b7",
   "metadata": {},
   "outputs": [],
   "source": [
    "ages = {'babar':26,'Virat':31,'Kane':28}"
   ]
  },
  {
   "cell_type": "code",
   "execution_count": 13,
   "id": "c4ba0a03",
   "metadata": {},
   "outputs": [
    {
     "data": {
      "text/plain": [
       "{'babar': 26, 'Virat': 31, 'Kane': 28}"
      ]
     },
     "execution_count": 13,
     "metadata": {},
     "output_type": "execute_result"
    }
   ],
   "source": [
    "ages"
   ]
  },
  {
   "cell_type": "code",
   "execution_count": 14,
   "id": "f580f54c",
   "metadata": {},
   "outputs": [
    {
     "data": {
      "text/plain": [
       "babar    26\n",
       "Virat    31\n",
       "Kane     28\n",
       "dtype: int64"
      ]
     },
     "execution_count": 14,
     "metadata": {},
     "output_type": "execute_result"
    }
   ],
   "source": [
    "pd.Series(ages)"
   ]
  },
  {
   "cell_type": "markdown",
   "id": "4ca866b9",
   "metadata": {},
   "source": [
    "## Key ideas of a Series"
   ]
  },
  {
   "cell_type": "code",
   "execution_count": 15,
   "id": "381cb7bd",
   "metadata": {},
   "outputs": [],
   "source": [
    "q1 = {'Japan': 80, 'China': 450, 'India': 200, 'USA': 250}\n",
    "q2 = {'Brazil': 100,'China': 500, 'India': 210,'USA': 260}"
   ]
  },
  {
   "cell_type": "code",
   "execution_count": 16,
   "id": "b0a25514",
   "metadata": {},
   "outputs": [],
   "source": [
    "sales_q1 = pd.Series(q1)\n",
    "sales_q2 = pd.Series(q2)"
   ]
  },
  {
   "cell_type": "code",
   "execution_count": 17,
   "id": "3a524cb9",
   "metadata": {},
   "outputs": [
    {
     "data": {
      "text/plain": [
       "Japan     80\n",
       "China    450\n",
       "India    200\n",
       "USA      250\n",
       "dtype: int64"
      ]
     },
     "execution_count": 17,
     "metadata": {},
     "output_type": "execute_result"
    }
   ],
   "source": [
    "sales_q1"
   ]
  },
  {
   "cell_type": "code",
   "execution_count": 18,
   "id": "e475cc9b",
   "metadata": {},
   "outputs": [
    {
     "data": {
      "text/plain": [
       "Brazil    100\n",
       "China     500\n",
       "India     210\n",
       "USA       260\n",
       "dtype: int64"
      ]
     },
     "execution_count": 18,
     "metadata": {},
     "output_type": "execute_result"
    }
   ],
   "source": [
    "sales_q2"
   ]
  },
  {
   "cell_type": "code",
   "execution_count": 21,
   "id": "2c6f6922",
   "metadata": {},
   "outputs": [
    {
     "data": {
      "text/plain": [
       "80"
      ]
     },
     "execution_count": 21,
     "metadata": {},
     "output_type": "execute_result"
    }
   ],
   "source": [
    "## Value based on index\n",
    "sales_q1['Japan']"
   ]
  },
  {
   "cell_type": "code",
   "execution_count": 22,
   "id": "e3fcdbc8",
   "metadata": {},
   "outputs": [
    {
     "data": {
      "text/plain": [
       "80"
      ]
     },
     "execution_count": 22,
     "metadata": {},
     "output_type": "execute_result"
    }
   ],
   "source": [
    "## Value based on Integre based location\n",
    "sales_q1[0]"
   ]
  },
  {
   "cell_type": "markdown",
   "id": "ca75378c",
   "metadata": {},
   "source": [
    "## Operations"
   ]
  },
  {
   "cell_type": "code",
   "execution_count": 24,
   "id": "c0b89fff",
   "metadata": {},
   "outputs": [
    {
     "data": {
      "text/plain": [
       "Index(['Japan', 'China', 'India', 'USA'], dtype='object')"
      ]
     },
     "execution_count": 24,
     "metadata": {},
     "output_type": "execute_result"
    }
   ],
   "source": [
    "sales_q1.keys()"
   ]
  },
  {
   "cell_type": "code",
   "execution_count": 25,
   "id": "79c5e69c",
   "metadata": {},
   "outputs": [
    {
     "data": {
      "text/plain": [
       "Japan    160\n",
       "China    900\n",
       "India    400\n",
       "USA      500\n",
       "dtype: int64"
      ]
     },
     "execution_count": 25,
     "metadata": {},
     "output_type": "execute_result"
    }
   ],
   "source": [
    "sales_q1 * 2"
   ]
  },
  {
   "cell_type": "code",
   "execution_count": 26,
   "id": "853677ef",
   "metadata": {},
   "outputs": [
    {
     "data": {
      "text/plain": [
       "Japan    0.8\n",
       "China    4.5\n",
       "India    2.0\n",
       "USA      2.5\n",
       "dtype: float64"
      ]
     },
     "execution_count": 26,
     "metadata": {},
     "output_type": "execute_result"
    }
   ],
   "source": [
    "sales_q1/100"
   ]
  },
  {
   "cell_type": "markdown",
   "id": "b015983b",
   "metadata": {},
   "source": [
    "## Between Series"
   ]
  },
  {
   "cell_type": "code",
   "execution_count": 27,
   "id": "ffd146de",
   "metadata": {},
   "outputs": [
    {
     "data": {
      "text/plain": [
       "Brazil      NaN\n",
       "China     950.0\n",
       "India     410.0\n",
       "Japan       NaN\n",
       "USA       510.0\n",
       "dtype: float64"
      ]
     },
     "execution_count": 27,
     "metadata": {},
     "output_type": "execute_result"
    }
   ],
   "source": [
    "sales_q1 + sales_q2"
   ]
  },
  {
   "cell_type": "code",
   "execution_count": 28,
   "id": "14c08815",
   "metadata": {},
   "outputs": [
    {
     "data": {
      "text/plain": [
       "Brazil    100.0\n",
       "China     950.0\n",
       "India     410.0\n",
       "Japan      80.0\n",
       "USA       510.0\n",
       "dtype: float64"
      ]
     },
     "execution_count": 28,
     "metadata": {},
     "output_type": "execute_result"
    }
   ],
   "source": [
    "sales_q1.add(sales_q2,fill_value = 0)"
   ]
  },
  {
   "cell_type": "code",
   "execution_count": null,
   "id": "f2429b2f",
   "metadata": {},
   "outputs": [],
   "source": []
  }
 ],
 "metadata": {
  "kernelspec": {
   "display_name": "Python 3 (ipykernel)",
   "language": "python",
   "name": "python3"
  },
  "language_info": {
   "codemirror_mode": {
    "name": "ipython",
    "version": 3
   },
   "file_extension": ".py",
   "mimetype": "text/x-python",
   "name": "python",
   "nbconvert_exporter": "python",
   "pygments_lexer": "ipython3",
   "version": "3.9.7"
  }
 },
 "nbformat": 4,
 "nbformat_minor": 5
}
